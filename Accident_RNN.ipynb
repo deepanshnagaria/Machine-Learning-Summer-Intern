{
 "cells": [
  {
   "cell_type": "code",
   "execution_count": 1,
   "metadata": {},
   "outputs": [
    {
     "name": "stderr",
     "output_type": "stream",
     "text": [
      "Using TensorFlow backend.\n"
     ]
    },
    {
     "name": "stdout",
     "output_type": "stream",
     "text": [
      "curses is not supported on this machine (please install/reinstall curses for an optimal experience)\n"
     ]
    },
    {
     "name": "stderr",
     "output_type": "stream",
     "text": [
      "D:\\anaconda\\lib\\site-packages\\sklearn\\cross_validation.py:41: DeprecationWarning: This module was deprecated in version 0.18 in favor of the model_selection module into which all the refactored classes and functions are moved. Also note that the interface of the new CV iterators are different from that of this module. This module will be removed in 0.20.\n",
      "  \"This module will be removed in 0.20.\", DeprecationWarning)\n"
     ]
    },
    {
     "name": "stdout",
     "output_type": "stream",
     "text": [
      "Epoch 1/25\n",
      "904/904 [==============================] - 1s 1ms/step - loss: 0.6656 - acc: 0.6361\n",
      "Epoch 2/25\n",
      "904/904 [==============================] - 0s 239us/step - loss: 0.5775 - acc: 0.7976\n",
      "Epoch 3/25\n",
      "904/904 [==============================] - 0s 275us/step - loss: 0.4737 - acc: 0.8905\n",
      "Epoch 4/25\n",
      "904/904 [==============================] - 0s 277us/step - loss: 0.3707 - acc: 0.9126\n",
      "Epoch 5/25\n",
      "904/904 [==============================] - 0s 261us/step - loss: 0.2889 - acc: 0.9347\n",
      "Epoch 6/25\n",
      "904/904 [==============================] - 0s 350us/step - loss: 0.2154 - acc: 0.9469 0s - loss: 0.2143 - acc: 0.95\n",
      "Epoch 7/25\n",
      "904/904 [==============================] - 0s 276us/step - loss: 0.1662 - acc: 0.9635\n",
      "Epoch 8/25\n",
      "904/904 [==============================] - 0s 256us/step - loss: 0.1334 - acc: 0.9646\n",
      "Epoch 9/25\n",
      "904/904 [==============================] - 0s 344us/step - loss: 0.1020 - acc: 0.9757\n",
      "Epoch 10/25\n",
      "904/904 [==============================] - 0s 272us/step - loss: 0.0787 - acc: 0.9823\n",
      "Epoch 11/25\n",
      "904/904 [==============================] - 0s 304us/step - loss: 0.0683 - acc: 0.9834\n",
      "Epoch 12/25\n",
      "904/904 [==============================] - 0s 272us/step - loss: 0.0536 - acc: 0.9889 0s - loss: 0.0497 - acc: 0.\n",
      "Epoch 13/25\n",
      "904/904 [==============================] - 0s 284us/step - loss: 0.0509 - acc: 0.9889\n",
      "Epoch 14/25\n",
      "904/904 [==============================] - 0s 262us/step - loss: 0.0421 - acc: 0.9923\n",
      "Epoch 15/25\n",
      "904/904 [==============================] - 0s 276us/step - loss: 0.0353 - acc: 0.9900\n",
      "Epoch 16/25\n",
      "904/904 [==============================] - 0s 249us/step - loss: 0.0352 - acc: 0.9900\n",
      "Epoch 17/25\n",
      "904/904 [==============================] - 0s 305us/step - loss: 0.0302 - acc: 0.9934\n",
      "Epoch 18/25\n",
      "904/904 [==============================] - 0s 266us/step - loss: 0.0324 - acc: 0.9912\n",
      "Epoch 19/25\n",
      "904/904 [==============================] - 0s 279us/step - loss: 0.0286 - acc: 0.9923\n",
      "Epoch 20/25\n",
      "904/904 [==============================] - 0s 263us/step - loss: 0.0274 - acc: 0.9923\n",
      "Epoch 21/25\n",
      "904/904 [==============================] - 0s 292us/step - loss: 0.0276 - acc: 0.9912\n",
      "Epoch 22/25\n",
      "904/904 [==============================] - 0s 219us/step - loss: 0.0286 - acc: 0.9912\n",
      "Epoch 23/25\n",
      "904/904 [==============================] - 0s 219us/step - loss: 0.0246 - acc: 0.9923\n",
      "Epoch 24/25\n",
      "904/904 [==============================] - 0s 208us/step - loss: 0.0249 - acc: 0.9934\n",
      "Epoch 25/25\n",
      "904/904 [==============================] - 0s 226us/step - loss: 0.0256 - acc: 0.9912\n"
     ]
    }
   ],
   "source": [
    "import keras\n",
    "from keras.preprocessing.text import Tokenizer\n",
    "from tflearn.data_utils import to_categorical, pad_sequences\n",
    "from keras.models import Sequential\n",
    "from keras.layers import Dense,Embedding,LSTM,Dropout,Conv1D\n",
    "from keras.wrappers.scikit_learn import KerasClassifier\n",
    "from sklearn.model_selection import cross_val_score\n",
    "import pandas as pd\n",
    "from sklearn.feature_extraction.text import CountVectorizer\n",
    "from __future__ import print_function\n",
    "X=pd.read_csv(\"C:/Users/DEEPANSH/Desktop/Tweets1.csv\")\n",
    "x=X.Tweets\n",
    "y=X.Labels\n",
    "from sklearn.cross_validation import train_test_split\n",
    "X_train, X_test, y_train, y_test = train_test_split(x, y, random_state=1)\n",
    "from sklearn.feature_extraction.text import CountVectorizer\n",
    "vect = CountVectorizer()\n",
    "vect.fit(X_train)\n",
    "X_train_dtm = vect.transform(X_train)\n",
    "X_train_dtm = vect.fit_transform(X_train)\n",
    "X_test_dtm = vect.transform(X_test)\n",
    "model = Sequential()\n",
    "model.add(Dense(8, activation='relu',input_dim=4474))\n",
    "\n",
    "model.add(Dropout(0.05))\n",
    "model.add(Dense(4, activation='sigmoid'))\n",
    "model.add(Dense(8, activation='relu'))\n",
    "model.add(Dense(units=2, activation='softmax'))\n",
    "model.compile(optimizer='rmsprop',\n",
    "              loss='sparse_categorical_crossentropy',\n",
    "              metrics=['accuracy'])\n",
    "model.fit(X_train_dtm, y_train, epochs=25, batch_size=16)\n",
    "y_pred =model.predict_classes(X_test_dtm)\n"
   ]
  },
  {
   "cell_type": "code",
   "execution_count": 2,
   "metadata": {},
   "outputs": [
    {
     "data": {
      "text/plain": [
       "0.8112582781456954"
      ]
     },
     "execution_count": 2,
     "metadata": {},
     "output_type": "execute_result"
    }
   ],
   "source": [
    "from sklearn.metrics import accuracy_score\n",
    "\n",
    "accuracy_score(y_test, y_pred)"
   ]
  },
  {
   "cell_type": "code",
   "execution_count": null,
   "metadata": {},
   "outputs": [],
   "source": []
  }
 ],
 "metadata": {
  "kernelspec": {
   "display_name": "Python 3",
   "language": "python",
   "name": "python3"
  },
  "language_info": {
   "codemirror_mode": {
    "name": "ipython",
    "version": 3
   },
   "file_extension": ".py",
   "mimetype": "text/x-python",
   "name": "python",
   "nbconvert_exporter": "python",
   "pygments_lexer": "ipython3",
   "version": "3.6.5"
  }
 },
 "nbformat": 4,
 "nbformat_minor": 2
}
