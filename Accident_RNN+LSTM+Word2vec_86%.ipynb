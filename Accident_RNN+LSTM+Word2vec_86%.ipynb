{
 "cells": [
  {
   "cell_type": "code",
   "execution_count": 1,
   "metadata": {},
   "outputs": [
    {
     "name": "stderr",
     "output_type": "stream",
     "text": [
      "Using TensorFlow backend.\n"
     ]
    },
    {
     "name": "stdout",
     "output_type": "stream",
     "text": [
      "curses is not supported on this machine (please install/reinstall curses for an optimal experience)\n"
     ]
    }
   ],
   "source": [
    "import keras\n",
    "from keras.preprocessing.text import Tokenizer\n",
    "from tflearn.data_utils import to_categorical, pad_sequences\n",
    "from keras.models import Sequential\n",
    "from keras.layers import Dense,Embedding,LSTM,Dropout,Conv1D\n",
    "from keras.wrappers.scikit_learn import KerasClassifier\n",
    "from sklearn.model_selection import cross_val_score\n",
    "import pandas as pd\n",
    "import re\n",
    "from sklearn.feature_extraction.text import CountVectorizer\n",
    "from __future__ import print_function\n",
    "X=pd.read_csv(\"C:/Users/DEEPANSH/Desktop/Tweets1.csv\")\n",
    "x=X.Tweets\n",
    "y=X.Labels\n",
    "raw=x.tolist()\n",
    "def sentence_to_wordlist(raw):\n",
    "    clean = re.sub(\"[^a-zA-Z]\",\" \", raw)\n",
    "    words = clean.split()\n",
    "    return words\n"
   ]
  },
  {
   "cell_type": "code",
   "execution_count": 4,
   "metadata": {},
   "outputs": [
    {
     "name": "stderr",
     "output_type": "stream",
     "text": [
      "D:\\anaconda\\lib\\site-packages\\gensim\\utils.py:1197: UserWarning: detected Windows; aliasing chunkize to chunkize_serial\n",
      "  warnings.warn(\"detected Windows; aliasing chunkize to chunkize_serial\")\n"
     ]
    },
    {
     "name": "stdout",
     "output_type": "stream",
     "text": [
      "Word2Vec(vocab=4253, size=100, alpha=0.025)\n"
     ]
    }
   ],
   "source": [
    "\n",
    "sentences=[]\n",
    "for raw_sentence in raw:\n",
    "    if len(raw_sentence) > 0:\n",
    "        sentences.append(sentence_to_wordlist(raw_sentence))\n",
    "import gensim.models.word2vec as w2v\n",
    "model = w2v.Word2Vec(sentences, size=100, window=5, min_count=1, workers=4)\n",
    "#model.wv.most_similar(positive=['traffic', 'need'], negative=['free'])\n",
    "model.save('model.bin')\n",
    "# load model\n",
    "#new_model = w2v.load('model.bin')\n",
    "print(model)"
   ]
  },
  {
   "cell_type": "code",
   "execution_count": 5,
   "metadata": {},
   "outputs": [
    {
     "name": "stderr",
     "output_type": "stream",
     "text": [
      "D:\\anaconda\\lib\\site-packages\\ipykernel_launcher.py:6: DeprecationWarning: Call to deprecated `__getitem__` (Method will be removed in 4.0.0, use self.wv.__getitem__() instead).\n",
      "  \n"
     ]
    },
    {
     "data": {
      "text/plain": [
       "array([[-6.35114918e-03, -1.75915018e-03,  1.37782590e-02, ...,\n",
       "         1.15339002e-02, -3.46404710e-03, -1.18380340e-05],\n",
       "       [ 0.00000000e+00,  0.00000000e+00,  0.00000000e+00, ...,\n",
       "         0.00000000e+00,  0.00000000e+00,  0.00000000e+00],\n",
       "       [ 0.00000000e+00,  0.00000000e+00,  0.00000000e+00, ...,\n",
       "         0.00000000e+00,  0.00000000e+00,  0.00000000e+00],\n",
       "       ...,\n",
       "       [ 0.00000000e+00,  0.00000000e+00,  0.00000000e+00, ...,\n",
       "         0.00000000e+00,  0.00000000e+00,  0.00000000e+00],\n",
       "       [ 0.00000000e+00,  0.00000000e+00,  0.00000000e+00, ...,\n",
       "         0.00000000e+00,  0.00000000e+00,  0.00000000e+00],\n",
       "       [ 0.00000000e+00,  0.00000000e+00,  0.00000000e+00, ...,\n",
       "         0.00000000e+00,  0.00000000e+00,  0.00000000e+00]])"
      ]
     },
     "execution_count": 5,
     "metadata": {},
     "output_type": "execute_result"
    }
   ],
   "source": [
    "from numpy import zeros\n",
    "embedding_matrix = zeros((4253, 100))\n",
    "i=0\n",
    "for word in dic.keys():\n",
    "    #print(word)\n",
    "    embedding_vector = model[word]\n",
    "    if embedding_vector is not None:\n",
    "        embedding_matrix[i] = embedding_vector\n",
    "embedding_matrix"
   ]
  },
  {
   "cell_type": "code",
   "execution_count": 7,
   "metadata": {},
   "outputs": [
    {
     "name": "stdout",
     "output_type": "stream",
     "text": [
      "Train on 904 samples, validate on 302 samples\n",
      "Epoch 1/50\n",
      " - 4s - loss: 0.6928 - acc: 0.5100 - val_loss: 0.6896 - val_acc: 0.7086\n",
      "Epoch 2/50\n",
      " - 3s - loss: 0.6836 - acc: 0.7423 - val_loss: 0.6649 - val_acc: 0.7384\n",
      "Epoch 3/50\n",
      " - 3s - loss: 0.6321 - acc: 0.7611 - val_loss: 0.5715 - val_acc: 0.7748\n",
      "Epoch 4/50\n",
      " - 3s - loss: 0.4954 - acc: 0.8341 - val_loss: 0.4295 - val_acc: 0.7947\n",
      "Epoch 5/50\n",
      " - 3s - loss: 0.3215 - acc: 0.8894 - val_loss: 0.4048 - val_acc: 0.8278\n",
      "Epoch 6/50\n",
      " - 3s - loss: 0.2597 - acc: 0.9226 - val_loss: 0.4089 - val_acc: 0.8079\n",
      "Epoch 7/50\n",
      " - 3s - loss: 0.2904 - acc: 0.8993 - val_loss: 0.4468 - val_acc: 0.7649\n",
      "Epoch 8/50\n",
      " - 3s - loss: 0.1829 - acc: 0.9403 - val_loss: 0.3882 - val_acc: 0.8477\n",
      "Epoch 9/50\n",
      " - 3s - loss: 0.1122 - acc: 0.9602 - val_loss: 0.3848 - val_acc: 0.8344\n",
      "Epoch 10/50\n",
      " - 3s - loss: 0.0745 - acc: 0.9768 - val_loss: 0.4193 - val_acc: 0.8344\n",
      "Epoch 11/50\n",
      " - 3s - loss: 0.0526 - acc: 0.9823 - val_loss: 0.4613 - val_acc: 0.8311\n",
      "Epoch 12/50\n",
      " - 3s - loss: 0.0660 - acc: 0.9790 - val_loss: 0.4440 - val_acc: 0.8411\n",
      "Epoch 13/50\n",
      " - 3s - loss: 0.0646 - acc: 0.9834 - val_loss: 0.4559 - val_acc: 0.8477\n",
      "Epoch 14/50\n",
      " - 3s - loss: 0.0437 - acc: 0.9900 - val_loss: 0.4868 - val_acc: 0.8411\n",
      "Epoch 15/50\n",
      " - 3s - loss: 0.0482 - acc: 0.9900 - val_loss: 0.5154 - val_acc: 0.8411\n",
      "Epoch 16/50\n",
      " - 3s - loss: 0.0249 - acc: 0.9923 - val_loss: 0.5260 - val_acc: 0.8377\n",
      "Epoch 17/50\n",
      " - 3s - loss: 0.0436 - acc: 0.9900 - val_loss: 0.5267 - val_acc: 0.8344\n",
      "Epoch 18/50\n",
      " - 3s - loss: 0.0295 - acc: 0.9912 - val_loss: 0.5098 - val_acc: 0.8344\n",
      "Epoch 19/50\n",
      " - 3s - loss: 0.0414 - acc: 0.9900 - val_loss: 0.4971 - val_acc: 0.8377\n",
      "Epoch 20/50\n",
      " - 3s - loss: 0.0340 - acc: 0.9889 - val_loss: 0.5129 - val_acc: 0.8411\n",
      "Epoch 21/50\n",
      " - 3s - loss: 0.0191 - acc: 0.9967 - val_loss: 0.5411 - val_acc: 0.8311\n",
      "Epoch 22/50\n",
      " - 3s - loss: 0.0209 - acc: 0.9956 - val_loss: 0.5725 - val_acc: 0.8377\n",
      "Epoch 23/50\n",
      " - 3s - loss: 0.0261 - acc: 0.9923 - val_loss: 0.6049 - val_acc: 0.8311\n",
      "Epoch 24/50\n",
      " - 3s - loss: 0.0312 - acc: 0.9889 - val_loss: 0.6579 - val_acc: 0.8311\n",
      "Epoch 25/50\n",
      " - 3s - loss: 0.0346 - acc: 0.9900 - val_loss: 0.6047 - val_acc: 0.8278\n",
      "Epoch 26/50\n",
      " - 3s - loss: 0.0353 - acc: 0.9912 - val_loss: 0.5580 - val_acc: 0.8311\n",
      "Epoch 27/50\n",
      " - 3s - loss: 0.0289 - acc: 0.9923 - val_loss: 0.5271 - val_acc: 0.8311\n",
      "Epoch 28/50\n",
      " - 3s - loss: 0.0329 - acc: 0.9900 - val_loss: 0.5280 - val_acc: 0.8311\n",
      "Epoch 29/50\n",
      " - 3s - loss: 0.0234 - acc: 0.9945 - val_loss: 0.5445 - val_acc: 0.8245\n",
      "Epoch 30/50\n",
      " - 3s - loss: 0.0281 - acc: 0.9956 - val_loss: 0.5646 - val_acc: 0.8377\n",
      "Epoch 31/50\n",
      " - 3s - loss: 0.0311 - acc: 0.9923 - val_loss: 0.5717 - val_acc: 0.8377\n",
      "Epoch 32/50\n",
      " - 3s - loss: 0.0329 - acc: 0.9923 - val_loss: 0.5535 - val_acc: 0.8344\n",
      "Epoch 33/50\n",
      " - 3s - loss: 0.0347 - acc: 0.9934 - val_loss: 0.5751 - val_acc: 0.8311\n",
      "Epoch 34/50\n",
      " - 3s - loss: 0.0249 - acc: 0.9956 - val_loss: 0.5658 - val_acc: 0.8344\n",
      "Epoch 35/50\n",
      " - 3s - loss: 0.0303 - acc: 0.9923 - val_loss: 0.5519 - val_acc: 0.8278\n",
      "Epoch 36/50\n",
      " - 3s - loss: 0.0243 - acc: 0.9934 - val_loss: 0.4918 - val_acc: 0.8079\n",
      "Epoch 37/50\n",
      " - 3s - loss: 0.0370 - acc: 0.9923 - val_loss: 0.5072 - val_acc: 0.8079\n",
      "Epoch 38/50\n",
      " - 3s - loss: 0.0305 - acc: 0.9923 - val_loss: 0.5440 - val_acc: 0.8278\n",
      "Epoch 39/50\n",
      " - 3s - loss: 0.0357 - acc: 0.9934 - val_loss: 0.5757 - val_acc: 0.8311\n",
      "Epoch 40/50\n",
      " - 3s - loss: 0.0348 - acc: 0.9912 - val_loss: 0.5755 - val_acc: 0.8344\n",
      "Epoch 41/50\n",
      " - 3s - loss: 0.0244 - acc: 0.9923 - val_loss: 0.5874 - val_acc: 0.8377\n",
      "Epoch 42/50\n",
      " - 3s - loss: 0.0231 - acc: 0.9945 - val_loss: 0.5989 - val_acc: 0.8311\n",
      "Epoch 43/50\n",
      " - 3s - loss: 0.0290 - acc: 0.9912 - val_loss: 0.6024 - val_acc: 0.8311\n",
      "Epoch 44/50\n",
      " - 3s - loss: 0.0140 - acc: 0.9945 - val_loss: 0.6024 - val_acc: 0.8311\n",
      "Epoch 45/50\n",
      " - 3s - loss: 0.0201 - acc: 0.9934 - val_loss: 0.6126 - val_acc: 0.8278\n",
      "Epoch 46/50\n",
      " - 3s - loss: 0.0177 - acc: 0.9945 - val_loss: 0.6319 - val_acc: 0.8278\n",
      "Epoch 47/50\n",
      " - 3s - loss: 0.0302 - acc: 0.9867 - val_loss: 0.6095 - val_acc: 0.8278\n",
      "Epoch 48/50\n",
      " - 3s - loss: 0.0229 - acc: 0.9923 - val_loss: 0.5701 - val_acc: 0.8146\n",
      "Epoch 49/50\n",
      " - 3s - loss: 0.0250 - acc: 0.9923 - val_loss: 0.5761 - val_acc: 0.8245\n",
      "Epoch 50/50\n",
      " - 3s - loss: 0.0192 - acc: 0.9923 - val_loss: 0.6286 - val_acc: 0.8212\n",
      "dict_keys(['val_loss', 'val_acc', 'loss', 'acc'])\n"
     ]
    }
   ],
   "source": [
    "import matplotlib.pyplot as plt\n",
    "# Fit the model\n",
    "history=model.fit(X_train, y_train, validation_data=(X_test, y_test), epochs=50, batch_size=128, verbose=2)\n",
    "# Final evaluation of the model\n",
    "scores = model.evaluate(X_test, y_test, verbose=0)\n",
    "print(history.history.keys())\n",
    "# summarize history for accuracy\n"
   ]
  },
  {
   "cell_type": "code",
   "execution_count": 8,
   "metadata": {},
   "outputs": [
    {
     "data": {
      "image/png": "[encoded data removed]",
      "text/plain": [
       "<Figure size 432x288 with 1 Axes>"
      ]
     },
     "metadata": {},
     "output_type": "display_data"
    },
    {
     "data": {
      "image/png": "[encoded data removed]",
      "text/plain": [
       "<Figure size 432x288 with 1 Axes>"
      ]
     },
     "metadata": {},
     "output_type": "display_data"
    }
   ],
   "source": [
    "plt.plot(history.history['acc'])\n",
    "plt.plot(history.history['val_acc'])\n",
    "plt.title('model accuracy')\n",
    "plt.ylabel('accuracy')\n",
    "plt.xlabel('epoch')\n",
    "plt.legend(['train', 'test'], loc='upper left')\n",
    "plt.show()\n",
    "# summarize history for loss\n",
    "plt.plot(history.history['loss'])\n",
    "plt.plot(history.history['val_loss'])\n",
    "plt.title('model loss')\n",
    "plt.ylabel('loss')\n",
    "plt.xlabel('epoch')\n",
    "plt.legend(['train', 'test'], loc='upper left')\n",
    "plt.show()"
   ]
  },
  {
   "cell_type": "code",
   "execution_count": 2,
   "metadata": {},
   "outputs": [],
   "source": [
    "import string\n",
    "import nltk\n",
    "from nltk.stem import PorterStemmer\n",
    "from nltk.corpus import stopwords\n",
    "#nltk.download('stopwords')\n",
    "stop_words = set(stopwords.words('english'))\n",
    "t = str.maketrans('', '', string.punctuation)\n",
    "porter = PorterStemmer()\n",
    "def clean_str(string):\n",
    "    w = nltk.word_tokenize(string)\n",
    "    w = [p.lower() for p in w]\n",
    "    s = [p.translate(t) for p in w]\n",
    "    w = [word for word in s if word.isalpha()]\n",
    "    w = [p for p in w if not p in stop_words]\n",
    "    w = [porter.stem(word) for word in w]\n",
    "    string = \" \".join(w)\n",
    "    return string.strip().lower()\n",
    "raw=[clean_str(sent) for sent in raw]"
   ]
  },
  {
   "cell_type": "code",
   "execution_count": 6,
   "metadata": {},
   "outputs": [
    {
     "name": "stdout",
     "output_type": "stream",
     "text": [
      "904\n",
      "302\n",
      "904\n",
      "302\n",
      "_________________________________________________________________\n",
      "Layer (type)                 Output Shape              Param #   \n",
      "=================================================================\n",
      "embedding_1 (Embedding)      (None, 150, 100)          425300    \n",
      "_________________________________________________________________\n",
      "lstm_1 (LSTM)                (None, 128)               117248    \n",
      "_________________________________________________________________\n",
      "dense_1 (Dense)              (None, 128)               16512     \n",
      "_________________________________________________________________\n",
      "dense_2 (Dense)              (None, 1)                 129       \n",
      "=================================================================\n",
      "Total params: 559,189\n",
      "Trainable params: 559,189\n",
      "Non-trainable params: 0\n",
      "_________________________________________________________________\n",
      "None\n"
     ]
    }
   ],
   "source": [
    "i=0;\n",
    "final=[]\n",
    "dic={'address':0}\n",
    "for dil in raw:\n",
    "    l=[]\n",
    "    w=sentence_to_wordlist(dil)\n",
    "    for wo in w:\n",
    "        if wo in dic.keys():\n",
    "            l.append(dic.get(wo))\n",
    "        else:\n",
    "            i=i+1\n",
    "            dic[wo]=i\n",
    "            l.append(dic.get(wo))\n",
    "    final.append(l)\n",
    "final\n",
    "Y=y\n",
    "from sklearn.cross_validation import train_test_split\n",
    "X_train, X_test, y_train, y_test = train_test_split(final, Y ,random_state=1)\n",
    "print(len(X_train))\n",
    "print(len(X_test))\n",
    "print(len(y_train))\n",
    "print(len(y_test))\n",
    "# load the dataset but only keep the top n words, zero the rest\n",
    "from keras.preprocessing import sequence\n",
    "top_words = i+1\n",
    "# pad dataset to a maximum review length in words\n",
    "max_words = 150\n",
    "X_train = sequence.pad_sequences(X_train, maxlen=max_words)\n",
    "X_test = sequence.pad_sequences(X_test, maxlen=max_words)\n",
    "model = Sequential()\n",
    "model.add(Embedding(top_words, 100, input_length=max_words,weights=[embedding_matrix]))\n",
    "model.add(LSTM(128,dropout=0.8))\n",
    "model.add(Dense(128, activation='relu'))\n",
    "model.add(Dense(1, activation='sigmoid'))\n",
    "model.compile(loss='binary_crossentropy', optimizer='adam', metrics=['accuracy'])\n",
    "print(model.summary())"
   ]
  },
  {
   "cell_type": "code",
   "execution_count": null,
   "metadata": {},
   "outputs": [],
   "source": []
  }
 ],
 "metadata": {
  "kernelspec": {
   "display_name": "Python 3",
   "language": "python",
   "name": "python3"
  },
  "language_info": {
   "codemirror_mode": {
    "name": "ipython",
    "version": 3
   },
   "file_extension": ".py",
   "mimetype": "text/x-python",
   "name": "python",
   "nbconvert_exporter": "python",
   "pygments_lexer": "ipython3",
   "version": "3.6.5"
  }
 },
 "nbformat": 4,
 "nbformat_minor": 2
}
