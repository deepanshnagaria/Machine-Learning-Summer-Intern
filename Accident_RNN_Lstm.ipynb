{
 "cells": [
  {
   "cell_type": "code",
   "execution_count": 1,
   "metadata": {},
   "outputs": [
    {
     "name": "stderr",
     "output_type": "stream",
     "text": [
      "Using TensorFlow backend.\n"
     ]
    },
    {
     "name": "stdout",
     "output_type": "stream",
     "text": [
      "curses is not supported on this machine (please install/reinstall curses for an optimal experience)\n",
      "904\n",
      "302\n",
      "904\n",
      "302\n"
     ]
    },
    {
     "name": "stderr",
     "output_type": "stream",
     "text": [
      "D:\\anaconda\\lib\\site-packages\\sklearn\\cross_validation.py:41: DeprecationWarning: This module was deprecated in version 0.18 in favor of the model_selection module into which all the refactored classes and functions are moved. Also note that the interface of the new CV iterators are different from that of this module. This module will be removed in 0.20.\n",
      "  \"This module will be removed in 0.20.\", DeprecationWarning)\n"
     ]
    },
    {
     "name": "stdout",
     "output_type": "stream",
     "text": [
      "_________________________________________________________________\n",
      "Layer (type)                 Output Shape              Param #   \n",
      "=================================================================\n",
      "embedding_1 (Embedding)      (None, 150, 32)           220608    \n",
      "_________________________________________________________________\n",
      "lstm_1 (LSTM)                (None, 128)               82432     \n",
      "_________________________________________________________________\n",
      "dense_1 (Dense)              (None, 128)               16512     \n",
      "_________________________________________________________________\n",
      "dense_2 (Dense)              (None, 1)                 129       \n",
      "=================================================================\n",
      "Total params: 319,681\n",
      "Trainable params: 319,681\n",
      "Non-trainable params: 0\n",
      "_________________________________________________________________\n",
      "None\n"
     ]
    }
   ],
   "source": [
    "import keras\n",
    "from keras.preprocessing.text import Tokenizer\n",
    "from tflearn.data_utils import to_categorical, pad_sequences\n",
    "from keras.models import Sequential\n",
    "from keras.layers import Dense,Embedding,LSTM,Dropout,Conv1D\n",
    "from keras.wrappers.scikit_learn import KerasClassifier\n",
    "from sklearn.model_selection import cross_val_score\n",
    "import pandas as pd\n",
    "from sklearn.feature_extraction.text import CountVectorizer\n",
    "from __future__ import print_function\n",
    "X=pd.read_csv(\"C:/Users/DEEPANSH/Desktop/Tweets1.csv\")\n",
    "x=X.Tweets\n",
    "y=X.Labels\n",
    "raw=x.tolist()\n",
    "i=1;\n",
    "final=[]\n",
    "dic={'address':1}\n",
    "for dil in raw:\n",
    "    l=[]\n",
    "    w=dil.split()\n",
    "    for wo in w:\n",
    "        if wo in dic.keys():\n",
    "            l.append(dic.get(wo))\n",
    "        else:\n",
    "            i=i+1\n",
    "            dic[wo]=i\n",
    "            l.append(dic.get(wo))\n",
    "    final.append(l)\n",
    "final\n",
    "Y=y\n",
    "from sklearn.cross_validation import train_test_split\n",
    "X_train, X_test, y_train, y_test = train_test_split(final, Y ,random_state=1)\n",
    "print(len(X_train))\n",
    "print(len(X_test))\n",
    "print(len(y_train))\n",
    "print(len(y_test))\n",
    "# load the dataset but only keep the top n words, zero the rest\n",
    "from keras.preprocessing import sequence\n",
    "top_words = i+1\n",
    "# pad dataset to a maximum review length in words\n",
    "max_words = 150\n",
    "X_train = sequence.pad_sequences(X_train, maxlen=max_words)\n",
    "X_test = sequence.pad_sequences(X_test, maxlen=max_words)\n",
    "model = Sequential()\n",
    "model.add(Embedding(top_words, 32, input_length=max_words))\n",
    "model.add(LSTM(128,dropout=0.8))\n",
    "model.add(Dense(128, activation='relu'))\n",
    "model.add(Dense(1, activation='sigmoid'))\n",
    "model.compile(loss='binary_crossentropy', optimizer='adam', metrics=['accuracy'])\n",
    "print(model.summary())"
   ]
  },
  {
   "cell_type": "code",
   "execution_count": 2,
   "metadata": {},
   "outputs": [
    {
     "name": "stdout",
     "output_type": "stream",
     "text": [
      "Train on 904 samples, validate on 302 samples\n",
      "Epoch 1/50\n",
      " - 3s - loss: 0.6924 - acc: 0.5321 - val_loss: 0.6902 - val_acc: 0.5530\n",
      "Epoch 2/50\n",
      " - 2s - loss: 0.6876 - acc: 0.5332 - val_loss: 0.6823 - val_acc: 0.5066\n",
      "Epoch 3/50\n",
      " - 2s - loss: 0.6703 - acc: 0.5796 - val_loss: 0.6504 - val_acc: 0.6921\n",
      "Epoch 4/50\n",
      " - 2s - loss: 0.6241 - acc: 0.7423 - val_loss: 0.5880 - val_acc: 0.7152\n",
      "Epoch 5/50\n",
      " - 2s - loss: 0.5578 - acc: 0.7157 - val_loss: 0.5211 - val_acc: 0.7450\n",
      "Epoch 6/50\n",
      " - 2s - loss: 0.4915 - acc: 0.7898 - val_loss: 0.5042 - val_acc: 0.7483\n",
      "Epoch 7/50\n",
      " - 2s - loss: 0.4155 - acc: 0.8131 - val_loss: 0.4891 - val_acc: 0.7351\n",
      "Epoch 8/50\n",
      " - 2s - loss: 0.3242 - acc: 0.8728 - val_loss: 0.4322 - val_acc: 0.8013\n",
      "Epoch 9/50\n",
      " - 2s - loss: 0.2849 - acc: 0.8894 - val_loss: 0.4206 - val_acc: 0.8113\n",
      "Epoch 10/50\n",
      " - 2s - loss: 0.2731 - acc: 0.8816 - val_loss: 0.4591 - val_acc: 0.7781\n",
      "Epoch 11/50\n",
      " - 2s - loss: 0.2090 - acc: 0.9270 - val_loss: 0.4848 - val_acc: 0.7848\n",
      "Epoch 12/50\n",
      " - 2s - loss: 0.1870 - acc: 0.9259 - val_loss: 0.4517 - val_acc: 0.7781\n",
      "Epoch 13/50\n",
      " - 2s - loss: 0.1550 - acc: 0.9458 - val_loss: 0.5192 - val_acc: 0.8013\n",
      "Epoch 14/50\n",
      " - 2s - loss: 0.1080 - acc: 0.9624 - val_loss: 0.5548 - val_acc: 0.8146\n",
      "Epoch 15/50\n",
      " - 2s - loss: 0.1455 - acc: 0.9524 - val_loss: 0.5002 - val_acc: 0.8212\n",
      "Epoch 16/50\n",
      " - 2s - loss: 0.0989 - acc: 0.9746 - val_loss: 0.4886 - val_acc: 0.8212\n",
      "Epoch 17/50\n",
      " - 2s - loss: 0.0893 - acc: 0.9757 - val_loss: 0.4981 - val_acc: 0.8245\n",
      "Epoch 18/50\n",
      " - 2s - loss: 0.0818 - acc: 0.9735 - val_loss: 0.5407 - val_acc: 0.7914\n",
      "Epoch 19/50\n",
      " - 2s - loss: 0.0789 - acc: 0.9790 - val_loss: 0.5522 - val_acc: 0.8179\n",
      "Epoch 20/50\n",
      " - 2s - loss: 0.0552 - acc: 0.9812 - val_loss: 0.6453 - val_acc: 0.8245\n",
      "Epoch 21/50\n",
      " - 2s - loss: 0.0871 - acc: 0.9746 - val_loss: 0.6896 - val_acc: 0.7914\n",
      "Epoch 22/50\n",
      " - 2s - loss: 0.0839 - acc: 0.9723 - val_loss: 0.7950 - val_acc: 0.7682\n",
      "Epoch 23/50\n",
      " - 2s - loss: 0.0772 - acc: 0.9757 - val_loss: 0.5904 - val_acc: 0.8212\n",
      "Epoch 24/50\n",
      " - 2s - loss: 0.0594 - acc: 0.9823 - val_loss: 0.5574 - val_acc: 0.7980\n",
      "Epoch 25/50\n",
      " - 2s - loss: 0.0480 - acc: 0.9878 - val_loss: 0.5704 - val_acc: 0.8245\n",
      "Epoch 26/50\n",
      " - 2s - loss: 0.0583 - acc: 0.9834 - val_loss: 0.6509 - val_acc: 0.8311\n",
      "Epoch 27/50\n",
      " - 2s - loss: 0.0650 - acc: 0.9812 - val_loss: 0.6334 - val_acc: 0.8179\n",
      "Epoch 28/50\n",
      " - 2s - loss: 0.0425 - acc: 0.9889 - val_loss: 0.5956 - val_acc: 0.8212\n",
      "Epoch 29/50\n",
      " - 2s - loss: 0.0492 - acc: 0.9889 - val_loss: 0.6669 - val_acc: 0.7881\n",
      "Epoch 30/50\n",
      " - 2s - loss: 0.0500 - acc: 0.9856 - val_loss: 0.5899 - val_acc: 0.8212\n",
      "Epoch 31/50\n",
      " - 2s - loss: 0.0382 - acc: 0.9900 - val_loss: 0.6824 - val_acc: 0.8146\n",
      "Epoch 32/50\n",
      " - 2s - loss: 0.0397 - acc: 0.9889 - val_loss: 0.7043 - val_acc: 0.8344\n",
      "Epoch 33/50\n",
      " - 2s - loss: 0.0418 - acc: 0.9889 - val_loss: 0.7122 - val_acc: 0.7914\n",
      "Epoch 34/50\n",
      " - 2s - loss: 0.0324 - acc: 0.9923 - val_loss: 0.7800 - val_acc: 0.7914\n",
      "Epoch 35/50\n",
      " - 2s - loss: 0.0421 - acc: 0.9900 - val_loss: 0.7435 - val_acc: 0.7748\n",
      "Epoch 36/50\n",
      " - 2s - loss: 0.0495 - acc: 0.9812 - val_loss: 0.7559 - val_acc: 0.7881\n",
      "Epoch 37/50\n",
      " - 2s - loss: 0.0410 - acc: 0.9878 - val_loss: 0.7680 - val_acc: 0.7947\n",
      "Epoch 38/50\n",
      " - 2s - loss: 0.0291 - acc: 0.9912 - val_loss: 0.7889 - val_acc: 0.7980\n",
      "Epoch 39/50\n",
      " - 2s - loss: 0.0342 - acc: 0.9878 - val_loss: 0.7816 - val_acc: 0.8179\n",
      "Epoch 40/50\n",
      " - 2s - loss: 0.0429 - acc: 0.9889 - val_loss: 0.7838 - val_acc: 0.7815\n",
      "Epoch 41/50\n",
      " - 2s - loss: 0.0416 - acc: 0.9889 - val_loss: 0.6956 - val_acc: 0.7980\n",
      "Epoch 42/50\n",
      " - 2s - loss: 0.0434 - acc: 0.9889 - val_loss: 0.6695 - val_acc: 0.8245\n",
      "Epoch 43/50\n",
      " - 2s - loss: 0.0370 - acc: 0.9889 - val_loss: 0.6278 - val_acc: 0.8179\n",
      "Epoch 44/50\n",
      " - 2s - loss: 0.0224 - acc: 0.9967 - val_loss: 0.6341 - val_acc: 0.8079\n",
      "Epoch 45/50\n",
      " - 2s - loss: 0.0289 - acc: 0.9945 - val_loss: 0.6983 - val_acc: 0.8113\n",
      "Epoch 46/50\n",
      " - 2s - loss: 0.0380 - acc: 0.9889 - val_loss: 0.7452 - val_acc: 0.8113\n",
      "Epoch 47/50\n",
      " - 2s - loss: 0.0369 - acc: 0.9900 - val_loss: 0.7629 - val_acc: 0.8013\n",
      "Epoch 48/50\n",
      " - 2s - loss: 0.0273 - acc: 0.9900 - val_loss: 0.7787 - val_acc: 0.8179\n",
      "Epoch 49/50\n",
      " - 2s - loss: 0.0386 - acc: 0.9900 - val_loss: 0.7534 - val_acc: 0.7980\n",
      "Epoch 50/50\n",
      " - 2s - loss: 0.0346 - acc: 0.9912 - val_loss: 0.7020 - val_acc: 0.7947\n"
     ]
    }
   ],
   "source": [
    "# Fit the model\n",
    "history=model.fit(X_train, y_train, validation_data=(X_test, y_test), epochs=50, batch_size=128, verbose=2)\n",
    "# Final evaluation of the model\n",
    "scores = model.evaluate(X_test, y_test, verbose=0)"
   ]
  },
  {
   "cell_type": "code",
   "execution_count": 4,
   "metadata": {},
   "outputs": [
    {
     "data": {
      "image/png": "[encoded data removed]",
      "text/plain": [
       "<Figure size 432x288 with 1 Axes>"
      ]
     },
     "metadata": {},
     "output_type": "display_data"
    },
    {
     "data": {
      "image/png": "[encoded data removed]",
      "text/plain": [
       "<Figure size 432x288 with 1 Axes>"
      ]
     },
     "metadata": {},
     "output_type": "display_data"
    }
   ],
   "source": [
    "import matplotlib.pyplot as plt\n",
    "plt.plot(history.history['acc'])\n",
    "plt.plot(history.history['val_acc'])\n",
    "plt.title('model accuracy')\n",
    "plt.ylabel('accuracy')\n",
    "plt.xlabel('epoch')\n",
    "plt.legend(['train', 'test'], loc='upper left')\n",
    "plt.show()\n",
    "# summarize history for loss\n",
    "plt.plot(history.history['loss'])\n",
    "plt.plot(history.history['val_loss'])\n",
    "plt.title('model loss')\n",
    "plt.ylabel('loss')\n",
    "plt.xlabel('epoch')\n",
    "plt.legend(['train', 'test'], loc='upper left')\n",
    "plt.show()"
   ]
  },
  {
   "cell_type": "code",
   "execution_count": null,
   "metadata": {},
   "outputs": [],
   "source": []
  }
 ],
 "metadata": {
  "kernelspec": {
   "display_name": "Python 3",
   "language": "python",
   "name": "python3"
  },
  "language_info": {
   "codemirror_mode": {
    "name": "ipython",
    "version": 3
   },
   "file_extension": ".py",
   "mimetype": "text/x-python",
   "name": "python",
   "nbconvert_exporter": "python",
   "pygments_lexer": "ipython3",
   "version": "3.6.5"
  }
 },
 "nbformat": 4,
 "nbformat_minor": 2
}
